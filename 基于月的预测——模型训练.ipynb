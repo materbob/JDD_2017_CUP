{
 "cells": [
  {
   "cell_type": "code",
   "execution_count": null,
   "metadata": {
    "collapsed": true
   },
   "outputs": [],
   "source": [
    "import pandas as pd\n",
    "import numpy as np\n",
    "import lightgbm as lgb\n",
    "import xgboost"
   ]
  },
  {
   "cell_type": "code",
   "execution_count": null,
   "metadata": {
    "collapsed": true
   },
   "outputs": [],
   "source": [
    "#读取之前的特征集\n",
    "month_label=pd.read_csv('month_label.csv')\n",
    "shop_feature=pd.read_csv('shop_feature.csv')\n",
    "time_feature=pd.read_csv('time_feature.csv')"
   ]
  },
  {
   "cell_type": "code",
   "execution_count": null,
   "metadata": {
    "collapsed": true
   },
   "outputs": [],
   "source": [
    "#对店铺的部分特征进行空缺填补\n",
    "shop_feature['ads_times']=shop_feature['ads_times'].fillna(shop_feature['ads_times'].mean())\n",
    "shop_feature['cate_num']=shop_feature['cate_num'].fillna(shop_feature['cate_num'].mean())\n",
    "shop_feature['pid_num']=shop_feature['pid_num'].fillna(shop_feature['pid_num'].mean())"
   ]
  },
  {
   "cell_type": "code",
   "execution_count": null,
   "metadata": {
    "collapsed": true
   },
   "outputs": [],
   "source": [
    "time_feature['year']=time_feature['dt'].apply(lambda s: s[:4]).astype(int)\n",
    "time_feature['month']=time_feature['dt'].apply(lambda s: s[5:7]).astype(int)"
   ]
  },
  {
   "cell_type": "code",
   "execution_count": null,
   "metadata": {
    "collapsed": true
   },
   "outputs": [],
   "source": [
    "time_feature['holidy']=time_feature['dt'].apply(lambda s: s[:7])\n",
    "time_feature['jd_holidy']=time_feature['dt'].apply(lambda s: s[:7])"
   ]
  },
  {
   "cell_type": "code",
   "execution_count": null,
   "metadata": {
    "collapsed": true
   },
   "outputs": [],
   "source": [
    "holiday={'2016-08':8,'2016-09':8,'2016-10':13,'2016-11':8,'2016-12':9,\n",
    "       '2017-01':12,'2017-02':9,'2017-03':8,'2017-04':11,'2017-05':10,'2017-06':8,'2017-07':10}"
   ]
  },
  {
   "cell_type": "code",
   "execution_count": null,
   "metadata": {
    "collapsed": true
   },
   "outputs": [],
   "source": [
    "jd_holiday={'2016-08':0,'2016-09':10,'2016-10':0,'2016-11':30,'2016-12':3,\n",
    "       '2017-01':9,'2017-02':0,'2017-03':26,'2017-04':21,'2017-05':24,'2017-06':11,'2017-07':21}"
   ]
  },
  {
   "cell_type": "code",
   "execution_count": null,
   "metadata": {
    "collapsed": true
   },
   "outputs": [],
   "source": [
    "#时间特征的信息生成\n",
    "time_feature['holidy']=time_feature['holidy'].map(holiday)\n",
    "time_feature['jd_holidy']=time_feature['jd_holidy'].map(jd_holiday)"
   ]
  },
  {
   "cell_type": "code",
   "execution_count": null,
   "metadata": {
    "collapsed": true
   },
   "outputs": [],
   "source": [
    "time_feature['base_month']=(time_feature.year-2016)*12+time_feature.month"
   ]
  },
  {
   "cell_type": "code",
   "execution_count": null,
   "metadata": {
    "collapsed": true
   },
   "outputs": [],
   "source": [
    "month_dumm=pd.get_dummies(time_feature['month'],prefix='month')"
   ]
  },
  {
   "cell_type": "code",
   "execution_count": null,
   "metadata": {
    "collapsed": true
   },
   "outputs": [],
   "source": [
    "time_feature=pd.concat([time_feature,month_dumm],axis=1)"
   ]
  },
  {
   "cell_type": "code",
   "execution_count": null,
   "metadata": {
    "collapsed": true
   },
   "outputs": [],
   "source": [
    "#整理成总的数据集\n",
    "data=pd.merge(time_feature,shop_feature,on='shop_id',how='left')\n",
    "data=pd.merge(data,month_label,on=['shop_id','dt'],how='left')"
   ]
  },
  {
   "cell_type": "code",
   "execution_count": null,
   "metadata": {
    "collapsed": true
   },
   "outputs": [],
   "source": [
    "feature = [x for x in data.columns if x not in ['label','year','dt']]"
   ]
  },
  {
   "cell_type": "code",
   "execution_count": null,
   "metadata": {
    "collapsed": true
   },
   "outputs": [],
   "source": [
    "train=data[data.label.notnull()]\n",
    "test=data[data.label.isnull()]"
   ]
  },
  {
   "cell_type": "code",
   "execution_count": null,
   "metadata": {
    "collapsed": true
   },
   "outputs": [],
   "source": [
    "#生成训练数据和要测试的数据\n",
    "xgbTrain = xgboost.DMatrix(train[feature].values, label=train['label'],missing=np.nan)\n",
    "xgbVal = xgboost.DMatrix(train[feature].values, label=train['label'],missing=np.nan)\n",
    "watchlist = [(xgbTrain, 'train'),(xgbVal, 'eval')]\n",
    "xgbtest = xgboost.DMatrix(test[feature].values,missing=np.nan)"
   ]
  },
  {
   "cell_type": "code",
   "execution_count": null,
   "metadata": {
    "collapsed": true
   },
   "outputs": [],
   "source": [
    "#定义部分函数代替xgboost的回归函数\n",
    "def mapeObj(preds, dtrain):\n",
    "    gaps = dtrain.get_label()\n",
    "    grad = np.sign(preds - gaps) / gaps\n",
    "    hess = 1 / np.abs(preds - gaps)\n",
    "    return grad, hess\n",
    "\n",
    "def huber_approx_obj(preds, dtrain):\n",
    "    d = preds - dtrain.get_label() # remove .get_labels() for sklearn\n",
    "    h = 10000000  # h is delta in the graphic\n",
    "    scale = 1 + (d / h) ** 2\n",
    "    scale_sqrt = np.sqrt(scale)\n",
    "    grad = d / scale_sqrt\n",
    "    hess = 1 / scale / scale_sqrt\n",
    "    return grad, hess\n",
    "\n",
    "def log_cosh_obj(preds, dtrain):\n",
    "    x = preds - dtrain.get_label()\n",
    "    grad = np.tanh(x)\n",
    "    hess = 1 / np.cosh(x)**2\n",
    "    return grad, hess\n",
    "\n",
    "def fair_obj(preds, dtrain):\n",
    "    \"\"\"y = c * abs(x) - c * np.log(abs(abs(x) + c))\"\"\"\n",
    "    x = preds - dtrain.get_label()\n",
    "    c = 100000\n",
    "    den = abs(x) + c\n",
    "    grad = (c * x) / den\n",
    "    hess = (c * c) / (den * den)\n",
    "    return grad, hess\n",
    "\n",
    "def wmaeEval(preds, dtrain):\n",
    "    label = dtrain.get_label()\n",
    "    return 'error', np.sum(np.abs(preds - label)) / np.sum(label)"
   ]
  },
  {
   "cell_type": "code",
   "execution_count": null,
   "metadata": {
    "collapsed": true
   },
   "outputs": [],
   "source": [
    "#对部分参数的设定\n",
    "param = {}\n",
    "param['eta'] = 0.1\n",
    "param['max_depth'] =8\n",
    "param['mmin_child_weight'] = 4\n",
    "param['subsample'] = 0.95\n",
    "param['colsample_bytree'] = 0.5\n",
    "param['silent'] = 1"
   ]
  },
  {
   "cell_type": "code",
   "execution_count": null,
   "metadata": {
    "collapsed": true
   },
   "outputs": [],
   "source": [
    "num_round = 500\n",
    "modle = xgboost.train(param, xgbTrain, num_round, watchlist, obj=fair_obj,feval=wmaeEval, early_stopping_rounds=100)"
   ]
  },
  {
   "cell_type": "code",
   "execution_count": null,
   "metadata": {
    "collapsed": true
   },
   "outputs": [],
   "source": [
    "predsx = modle.predict(xgbtest)"
   ]
  },
  {
   "cell_type": "code",
   "execution_count": null,
   "metadata": {
    "collapsed": true
   },
   "outputs": [],
   "source": [
    "test['label']=predsx"
   ]
  },
  {
   "cell_type": "code",
   "execution_count": null,
   "metadata": {
    "collapsed": true
   },
   "outputs": [],
   "source": [
    "result=test[['shop_id','dt','label']]"
   ]
  },
  {
   "cell_type": "code",
   "execution_count": null,
   "metadata": {
    "collapsed": true
   },
   "outputs": [],
   "source": [
    "#将最后三个月的预测数据进行相加构成90天的预测销售额\n",
    "sale_amt = result.groupby('shop_id', as_index=False).agg({'label':['sum']})\n",
    "sale_amt.columns = ['shop_id','label']"
   ]
  },
  {
   "cell_type": "code",
   "execution_count": null,
   "metadata": {
    "collapsed": true
   },
   "outputs": [],
   "source": [
    "sale_amt.to_csv('2017121102last.csv',index=False,header=False)"
   ]
  }
 ],
 "metadata": {
  "kernelspec": {
   "display_name": "Python [default]",
   "language": "python",
   "name": "python3"
  },
  "language_info": {
   "codemirror_mode": {
    "name": "ipython",
    "version": 3
   },
   "file_extension": ".py",
   "mimetype": "text/x-python",
   "name": "python",
   "nbconvert_exporter": "python",
   "pygments_lexer": "ipython3",
   "version": "3.5.2"
  }
 },
 "nbformat": 4,
 "nbformat_minor": 1
}
