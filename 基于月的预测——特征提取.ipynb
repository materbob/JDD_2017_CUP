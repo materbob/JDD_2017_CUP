{
 "cells": [
  {
   "cell_type": "code",
   "execution_count": null,
   "metadata": {
    "collapsed": true
   },
   "outputs": [],
   "source": [
    "import pandas as pd\n",
    "import numpy as np\n",
    "import datetime\n",
    "from tqdm import tqdm"
   ]
  },
  {
   "cell_type": "markdown",
   "metadata": {},
   "source": [
    "# 首先生成各店铺每月的月销售量"
   ]
  },
  {
   "cell_type": "code",
   "execution_count": null,
   "metadata": {
    "collapsed": true
   },
   "outputs": [],
   "source": [
    "t_order=pd.read_csv('t_order_everyday.csv')\n",
    "t_order['ord_dt'] = pd.to_datetime(t_order['ord_dt'])"
   ]
  },
  {
   "cell_type": "code",
   "execution_count": null,
   "metadata": {
    "collapsed": true
   },
   "outputs": [],
   "source": [
    "date_list = ['2016/6/30','2016/7/31','2016/8/31','2016/9/30','2016/10/31','2016/11/30','2016/12/31','2017/1/31','2017/2/28','2017/3/31','2017/4/30']\n",
    "date_list = pd.to_datetime(date_list)"
   ]
  },
  {
   "cell_type": "code",
   "execution_count": null,
   "metadata": {
    "collapsed": true
   },
   "outputs": [],
   "source": [
    "feature = pd.DataFrame()\n",
    "for i in range(1,len(date_list)):\n",
    "    time_interval = t_order[(date_list[i-1] < t_order['ord_dt']) & (t_order['ord_dt'] <= date_list[i])]\n",
    "    #sale_amt\n",
    "    sale_amt = time_interval.groupby('shop_id', as_index=False).agg({'sale_amt':['sum']})\n",
    "    sale_amt.columns = ['shop_id','label']\n",
    "    sale_amt['dt'] = date_list[i]\n",
    "    feature = pd.concat([feature, sale_amt])\n",
    "    print(date_list[i])"
   ]
  },
  {
   "cell_type": "code",
   "execution_count": null,
   "metadata": {
    "collapsed": true
   },
   "outputs": [],
   "source": [
    "feature.to_csv('month_label.csv',index=False)"
   ]
  },
  {
   "cell_type": "markdown",
   "metadata": {},
   "source": [
    "# 提取各店铺产品的种类信息"
   ]
  },
  {
   "cell_type": "code",
   "execution_count": null,
   "metadata": {
    "collapsed": true
   },
   "outputs": [],
   "source": [
    "t_product=pd.read_csv('t_product.csv')"
   ]
  },
  {
   "cell_type": "code",
   "execution_count": null,
   "metadata": {
    "collapsed": true
   },
   "outputs": [],
   "source": [
    "cate_product=t_product[['shop_id','cate']]\n",
    "cate_product=cate_product.drop_duplicates(['shop_id','cate'])"
   ]
  },
  {
   "cell_type": "code",
   "execution_count": null,
   "metadata": {
    "collapsed": true
   },
   "outputs": [],
   "source": [
    "cate_product=cate_product.groupby('shop_id',as_index=False).agg({'cate':['count']})\n",
    "cate_product.columns = ['shop_id','cate_num']"
   ]
  },
  {
   "cell_type": "code",
   "execution_count": null,
   "metadata": {
    "collapsed": true
   },
   "outputs": [],
   "source": [
    "pid_product=t_product[['shop_id','pid']]\n",
    "pid_product=pid_product.drop_duplicates(['shop_id','pid'])\n",
    "pid_product=pid_product.groupby('shop_id',as_index=False).agg({'pid':['count']})\n",
    "pid_product.columns = ['shop_id','pid_num']"
   ]
  },
  {
   "cell_type": "markdown",
   "metadata": {},
   "source": [
    "# 开始生成前一个月产品的基本信息"
   ]
  },
  {
   "cell_type": "code",
   "execution_count": null,
   "metadata": {
    "collapsed": true
   },
   "outputs": [],
   "source": [
    "feature1 = pd.DataFrame()\n",
    "for i in range(1,len(date_list)):\n",
    "    time_interval = t_order[(date_list[i-1] < t_order['ord_dt']) & (t_order['ord_dt'] <= date_list[i])]\n",
    "    #sale_amt\n",
    "    sale_amt = time_interval.groupby('shop_id', as_index=False).agg({'sale_amt':['sum']})\n",
    "    sale_amt.columns = ['shop_id','sale_month']\n",
    "    #offer_amt\n",
    "    offer_amt = time_interval.groupby('shop_id', as_index=False).agg({'offer_amt':['sum']})\n",
    "    offer_amt.columns = ['shop_id', 'offer_amt_month']\n",
    "    all_feature = pd.merge(sale_amt,offer_amt,on='shop_id',how='left')\n",
    "    #offer_cnt\n",
    "    offer_cnt = time_interval.groupby('shop_id', as_index=False).agg({'offer_cnt':['sum']})\n",
    "    offer_cnt.columns = ['shop_id', 'offer_cnt_month']\n",
    "    all_feature = pd.merge(all_feature, offer_cnt,on='shop_id',how='left')\n",
    "    #rtn_cnt\n",
    "    rtn_cnt = time_interval.groupby('shop_id', as_index=False).agg({'rtn_cnt':['sum']})\n",
    "    rtn_cnt.columns = ['shop_id', 'rtn_cnt_month']\n",
    "    all_feature = pd.merge(all_feature, rtn_cnt, on='shop_id',how='left')\n",
    "    #rtn_cmt\n",
    "    rtn_amt = time_interval.groupby('shop_id', as_index=False).agg({'rtn_amt':['sum']})\n",
    "    rtn_amt.columns = ['shop_id', 'rtn_amt_month']\n",
    "    all_feature = pd.merge(all_feature, rtn_amt, on='shop_id',how='left')\n",
    "    #ord_cnt\n",
    "    ord_cnt = time_interval.groupby('shop_id', as_index=False).agg({'ord_cnt':['sum']})\n",
    "    ord_cnt.columns = ['shop_id', 'ord_cnt_month']\n",
    "    all_feature = pd.merge(all_feature, ord_cnt, on='shop_id',how='left')\n",
    "    #usr_cnt\n",
    "    user_cnt = time_interval.groupby('shop_id', as_index=False).agg({'user_cnt':['sum']})\n",
    "    user_cnt.columns = ['shop_id', 'user_cnt_month']\n",
    "    all_feature = pd.merge(all_feature, user_cnt, on='shop_id',how='left')\n",
    "    all_feature['dt'] = date_list[i]\n",
    "    feature1 = pd.concat([feature1, all_feature])\n",
    "    print(date_list[i])"
   ]
  },
  {
   "cell_type": "code",
   "execution_count": null,
   "metadata": {
    "collapsed": true
   },
   "outputs": [],
   "source": [
    "feature1['priduct_price']=feature1.sale_month/feature1.ord_cnt_month"
   ]
  },
  {
   "cell_type": "code",
   "execution_count": null,
   "metadata": {
    "collapsed": true
   },
   "outputs": [],
   "source": [
    "#各店铺平均销售额特征\n",
    "sale_mean=feature1[['shop_id','sale_month']]\n",
    "sale_mean=sale_mean.groupby('shop_id',as_index=False).agg({'sale_month':['mean','max','std']})\n",
    "sale_mean.columns = ['shop_id','sale_mean','sale_max','sale_std']"
   ]
  },
  {
   "cell_type": "code",
   "execution_count": null,
   "metadata": {
    "collapsed": true
   },
   "outputs": [],
   "source": [
    "#各店铺平均订单量特征\n",
    "ord_mean=feature1[['shop_id','ord_cnt_month']]\n",
    "ord_mean=ord_mean.groupby('shop_id',as_index=False).agg({'ord_cnt_month':['mean','max','std']})\n",
    "ord_mean.columns = ['shop_id','ord_mean','ord_max','std']"
   ]
  },
  {
   "cell_type": "code",
   "execution_count": null,
   "metadata": {
    "collapsed": true
   },
   "outputs": [],
   "source": [
    "#各店铺平均价格特征\n",
    "price_mean=feature1[['shop_id','priduct_price']]\n",
    "price_mean=price_mean.groupby('shop_id',as_index=False).agg({'priduct_price':['mean','max','std']})\n",
    "price_mean.columns = ['shop_id','price_mean','price_max','price_std']"
   ]
  },
  {
   "cell_type": "code",
   "execution_count": null,
   "metadata": {
    "collapsed": true
   },
   "outputs": [],
   "source": [
    "#各店铺平均优惠特征\n",
    "offer_mean=feature1[['shop_id','offer_cnt_month']]\n",
    "offer_mean=offer_mean.groupby('shop_id',as_index=False).agg({'offer_cnt_month':['mean','max']})\n",
    "offer_mean.columns = ['shop_id','offer_mean','offer_max']"
   ]
  },
  {
   "cell_type": "code",
   "execution_count": null,
   "metadata": {
    "collapsed": true
   },
   "outputs": [],
   "source": [
    "comment= pd.read_csv('t_comment.csv')"
   ]
  },
  {
   "cell_type": "code",
   "execution_count": null,
   "metadata": {
    "collapsed": true
   },
   "outputs": [],
   "source": [
    "#各店铺的评价特征信息\n",
    "bad_num = comment.groupby('shop_id', as_index=False).agg({'bad_num':['sum']})\n",
    "bad_num.columns = ['shop_id', 'bad_num_sum']\n",
    "#cmmt_num\n",
    "cmmt_num = comment.groupby('shop_id', as_index=False).agg({'cmmt_num': ['sum']})\n",
    "cmmt_num.columns = ['shop_id', 'cmmt_num_sum']\n",
    "all_feature = pd.merge(bad_num, cmmt_num, on='shop_id')\n",
    "#dis_num\n",
    "dis_num= comment.groupby('shop_id', as_index=False).agg({'dis_num': ['sum']})\n",
    "dis_num.columns = ['shop_id', 'dis_num_sum']\n",
    "all_feature = pd.merge(all_feature, dis_num, on='shop_id')\n",
    "#good_num\n",
    "good_num = comment.groupby('shop_id', as_index=False).agg({'good_num': ['sum']})\n",
    "good_num.columns = ['shop_id', 'good_num_sum']\n",
    "all_feature = pd.merge(all_feature, good_num, on='shop_id')\n",
    "#mid_num\n",
    "mid_num = comment.groupby('shop_id', as_index=False).agg({'mid_num': ['sum']})\n",
    "mid_num.columns = ['shop_id', 'mid_num_sum']\n",
    "all_feature = pd.merge(all_feature, mid_num, on='shop_id')"
   ]
  },
  {
   "cell_type": "code",
   "execution_count": null,
   "metadata": {
    "collapsed": true
   },
   "outputs": [],
   "source": [
    "all_feature['comment_num']=all_feature.bad_num_sum+all_feature.good_num_sum+all_feature.mid_num_sum\n",
    "all_feature['good_rate']=all_feature.good_num_sum/all_feature.comment_num"
   ]
  },
  {
   "cell_type": "code",
   "execution_count": null,
   "metadata": {
    "collapsed": true
   },
   "outputs": [],
   "source": [
    "#各店铺广告特征提取\n",
    "t_ads=pd.read_csv('t_ads.csv')\n",
    "t_ads['create_dt'] = pd.to_datetime(t_ads['create_dt'])"
   ]
  },
  {
   "cell_type": "code",
   "execution_count": null,
   "metadata": {
    "collapsed": true
   },
   "outputs": [],
   "source": [
    "date_list = ['2016/6/30','2016/7/31','2016/8/31','2016/9/30','2016/10/31','2016/11/30','2016/12/31','2017/1/31','2017/2/28','2017/3/31','2017/4/30']\n",
    "date_list = pd.to_datetime(date_list)"
   ]
  },
  {
   "cell_type": "code",
   "execution_count": null,
   "metadata": {
    "collapsed": true
   },
   "outputs": [],
   "source": [
    "feature2 = pd.DataFrame()\n",
    "for i in range(1,len(date_list)):\n",
    "    time_interval =t_ads[(date_list[i-1] < t_ads['create_dt']) & (t_ads['create_dt'] <= date_list[i])]\n",
    "    #bad_amt\n",
    "    consume_feature = time_interval.groupby('shop_id', as_index=False).agg({'consume':['sum']})\n",
    "    consume_feature.columns = ['shop_id', 'con_sum']\n",
    "    consume_feature['dt'] = date_list[i]\n",
    "    feature2 = pd.concat([feature2, consume_feature])\n",
    "    print(date_list[i])"
   ]
  },
  {
   "cell_type": "code",
   "execution_count": null,
   "metadata": {
    "collapsed": true
   },
   "outputs": [],
   "source": [
    "#各店铺投放广告的次数\n",
    "ads_times=feature2[['shop_id','con_sum']]\n",
    "ads_times=ads_times.groupby('shop_id',as_index=False).agg({'con_sum':['count']})\n",
    "ads_times.columns = ['shop_id','ads_times']"
   ]
  },
  {
   "cell_type": "code",
   "execution_count": null,
   "metadata": {
    "collapsed": true
   },
   "outputs": [],
   "source": [
    "#各店铺投放广告金额\n",
    "ads_mean=feature2[['shop_id','con_sum']]\n",
    "ads_mean=ads_mean.groupby('shop_id',as_index=False).agg({'con_sum':['mean']})\n",
    "ads_mean.columns = ['shop_id','ads_mean']"
   ]
  },
  {
   "cell_type": "code",
   "execution_count": null,
   "metadata": {
    "collapsed": true
   },
   "outputs": [],
   "source": [
    "shop_feature=pd.merge(sale_mean,ord_mean,on='shop_id',how='left')\n",
    "shop_feature=pd.merge(shop_feature,price_mean,on='shop_id',how='left')\n",
    "shop_feature=pd.merge(shop_feature,offer_mean,on='shop_id',how='left')\n",
    "shop_feature=pd.merge(shop_feature,all_feature[['shop_id','comment_num','dis_num_sum','good_rate']],on='shop_id',how='left')\n",
    "shop_feature=pd.merge(shop_feature,ads_times,on='shop_id',how='left')\n",
    "shop_feature=pd.merge(shop_feature,cate_product,on='shop_id',how='left')\n",
    "shop_feature=pd.merge(shop_feature,pid_product,on='shop_id',how='left')"
   ]
  },
  {
   "cell_type": "code",
   "execution_count": null,
   "metadata": {
    "collapsed": true
   },
   "outputs": [],
   "source": [
    "shop_feature.to_csv('shop_feature.csv',index=False)"
   ]
  },
  {
   "cell_type": "markdown",
   "metadata": {},
   "source": [
    "# 对时间的特征进行提取"
   ]
  },
  {
   "cell_type": "code",
   "execution_count": null,
   "metadata": {
    "collapsed": true
   },
   "outputs": [],
   "source": [
    "holiday={'2016-08':8,'2016-09':8,'2016-10':13,'2016-11':8,'2016-12':9,\n",
    "       '2017-01':12,'2017-02':9,'2017-03':8,'2017-04':11,'2017-05':10,'2017-06':8,'2017-07':10}"
   ]
  },
  {
   "cell_type": "code",
   "execution_count": null,
   "metadata": {
    "collapsed": true
   },
   "outputs": [],
   "source": [
    "jd_holiday={'2016-08':0,'2016-09':10,'2016-10':0,'2016-11':30,'2016-12':3,\n",
    "       '2017-01':9,'2017-02':0,'2017-03':26,'2017-04':21,'2017-05':24,'2017-06':11,'2017-07':21}"
   ]
  },
  {
   "cell_type": "code",
   "execution_count": null,
   "metadata": {
    "collapsed": true
   },
   "outputs": [],
   "source": [
    "time_feature=feature[['shop_id','dt']]"
   ]
  },
  {
   "cell_type": "code",
   "execution_count": null,
   "metadata": {
    "collapsed": true
   },
   "outputs": [],
   "source": [
    "time_feature5=time_feature[time_feature.dt=='2017-04-30']\n",
    "time_feature6=time_feature[time_feature.dt=='2017-04-30']\n",
    "time_feature7=time_feature[time_feature.dt=='2017-04-30']"
   ]
  },
  {
   "cell_type": "code",
   "execution_count": null,
   "metadata": {
    "collapsed": true
   },
   "outputs": [],
   "source": [
    "time_feature5['dt']='2017-05-31'\n",
    "time_feature6['dt']='2017-06-30'\n",
    "time_feature7['dt']='2017-07-31'"
   ]
  },
  {
   "cell_type": "code",
   "execution_count": null,
   "metadata": {
    "collapsed": true
   },
   "outputs": [],
   "source": [
    "time_feature=pd.concat([time_feature,time_feature5,time_feature6,time_feature7])"
   ]
  },
  {
   "cell_type": "code",
   "execution_count": null,
   "metadata": {
    "collapsed": true
   },
   "outputs": [],
   "source": [
    "time_feature['dt']=pd.to_datetime(time_feature.dt)"
   ]
  },
  {
   "cell_type": "code",
   "execution_count": null,
   "metadata": {
    "collapsed": true
   },
   "outputs": [],
   "source": [
    "time_feature.to_csv('time_feature.csv',index=False)"
   ]
  }
 ],
 "metadata": {
  "anaconda-cloud": {},
  "kernelspec": {
   "display_name": "Python [default]",
   "language": "python",
   "name": "python3"
  },
  "language_info": {
   "codemirror_mode": {
    "name": "ipython",
    "version": 3
   },
   "file_extension": ".py",
   "mimetype": "text/x-python",
   "name": "python",
   "nbconvert_exporter": "python",
   "pygments_lexer": "ipython3",
   "version": "3.5.2"
  }
 },
 "nbformat": 4,
 "nbformat_minor": 1
}
