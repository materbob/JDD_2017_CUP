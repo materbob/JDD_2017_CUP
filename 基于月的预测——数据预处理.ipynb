{
 "cells": [
  {
   "cell_type": "code",
   "execution_count": null,
   "metadata": {
    "collapsed": true
   },
   "outputs": [],
   "source": [
    "import pandas as pd\n",
    "import numpy as np\n",
    "from tqdm import tqdm"
   ]
  },
  {
   "cell_type": "markdown",
   "metadata": {},
   "source": [
    "# 将订单数据和产品信息数据整理为天为单位的数据"
   ]
  },
  {
   "cell_type": "code",
   "execution_count": null,
   "metadata": {
    "collapsed": true
   },
   "outputs": [],
   "source": [
    "t_order=pd.read_csv('t_order.csv')\n",
    "t_product=pd.read_csv('t_product.csv')"
   ]
  },
  {
   "cell_type": "markdown",
   "metadata": {},
   "source": [
    "# 对3000家店铺分别整理为每天的数据 并进行保存"
   ]
  },
  {
   "cell_type": "code",
   "execution_count": null,
   "metadata": {
    "collapsed": true
   },
   "outputs": [],
   "source": [
    "feature = pd.DataFrame()\n",
    "for i in tqdm(range(1,3001)):\n",
    "    time_interval = t_order[t_order.shop_id==i].sort_values(by=['ord_dt'])\n",
    "    \n",
    "    sale_amt = time_interval.groupby('ord_dt', as_index=False).agg({'sale_amt':['sum']})\n",
    "    sale_amt.columns = ['ord_dt','sale_amt']\n",
    "    \n",
    "    offer_amt = time_interval.groupby('ord_dt', as_index=False).agg({'offer_amt':['sum']})\n",
    "    offer_amt.columns = ['ord_dt', 'offer_amt']\n",
    "    all_feature = pd.merge(sale_amt,offer_amt,on='ord_dt',how='left') \n",
    "    \n",
    "    offer_cnt = time_interval.groupby('ord_dt', as_index=False).agg({'offer_cnt':['sum']})\n",
    "    offer_cnt.columns = ['ord_dt', 'offer_cnt']\n",
    "    all_feature = pd.merge(all_feature, offer_cnt,on='ord_dt',how='left')\n",
    "    \n",
    "    rtn_cnt = time_interval.groupby('ord_dt', as_index=False).agg({'rtn_cnt':['sum']})\n",
    "    rtn_cnt.columns = ['ord_dt', 'rtn_cnt']\n",
    "    all_feature = pd.merge(all_feature, rtn_cnt, on='ord_dt',how='left')\n",
    "    \n",
    "    rtn_amt = time_interval.groupby('ord_dt', as_index=False).agg({'rtn_amt':['sum']})\n",
    "    rtn_amt.columns = ['ord_dt', 'rtn_amt']\n",
    "    all_feature = pd.merge(all_feature, rtn_amt, on='ord_dt',how='left')\n",
    "    \n",
    "    ord_cnt = time_interval.groupby('ord_dt', as_index=False).agg({'ord_cnt':['sum']})\n",
    "    ord_cnt.columns = ['ord_dt', 'ord_cnt']\n",
    "    all_feature = pd.merge(all_feature, ord_cnt, on='ord_dt',how='left')    \n",
    "    \n",
    "    user_cnt = time_interval.groupby('ord_dt', as_index=False).agg({'user_cnt':['sum']})\n",
    "    user_cnt.columns = ['ord_dt', 'user_cnt']\n",
    "    all_feature = pd.merge(all_feature, user_cnt, on='ord_dt',how='left')\n",
    "    all_feature['shop_id'] = i\n",
    "    feature = pd.concat([feature, all_feature])"
   ]
  },
  {
   "cell_type": "code",
   "execution_count": null,
   "metadata": {
    "collapsed": true
   },
   "outputs": [],
   "source": [
    "feature.to_csv('t_order_everyday.csv',index=False)"
   ]
  },
  {
   "cell_type": "code",
   "execution_count": null,
   "metadata": {
    "collapsed": true
   },
   "outputs": [],
   "source": [
    "feature1 = pd.DataFrame()\n",
    "for i in tqdm(range(1,3001)):\n",
    "    product_ =t_product[t_product.shop_id==i].sort_values(by=['on_dt'])\n",
    "    #product_on\n",
    "    product_on= product_.groupby('on_dt', as_index=False).agg({'pid':['count']})\n",
    "    product_on.columns = ['on_dt', 'pid_num']\n",
    "    product_on['shop_id'] =i\n",
    "    feature1 = pd.concat([feature1, product_on])"
   ]
  },
  {
   "cell_type": "code",
   "execution_count": null,
   "metadata": {
    "collapsed": true
   },
   "outputs": [],
   "source": [
    "feature1.to_csv('t_product_everyday.csv',index=False)"
   ]
  },
  {
   "cell_type": "code",
   "execution_count": null,
   "metadata": {
    "collapsed": true
   },
   "outputs": [],
   "source": []
  },
  {
   "cell_type": "code",
   "execution_count": null,
   "metadata": {
    "collapsed": true
   },
   "outputs": [],
   "source": []
  },
  {
   "cell_type": "code",
   "execution_count": null,
   "metadata": {
    "collapsed": true
   },
   "outputs": [],
   "source": []
  },
  {
   "cell_type": "code",
   "execution_count": null,
   "metadata": {
    "collapsed": true
   },
   "outputs": [],
   "source": []
  },
  {
   "cell_type": "code",
   "execution_count": null,
   "metadata": {
    "collapsed": true
   },
   "outputs": [],
   "source": []
  },
  {
   "cell_type": "code",
   "execution_count": null,
   "metadata": {
    "collapsed": true
   },
   "outputs": [],
   "source": []
  },
  {
   "cell_type": "code",
   "execution_count": null,
   "metadata": {
    "collapsed": true
   },
   "outputs": [],
   "source": []
  },
  {
   "cell_type": "code",
   "execution_count": null,
   "metadata": {
    "collapsed": true
   },
   "outputs": [],
   "source": []
  },
  {
   "cell_type": "code",
   "execution_count": null,
   "metadata": {
    "collapsed": true
   },
   "outputs": [],
   "source": []
  }
 ],
 "metadata": {
  "kernelspec": {
   "display_name": "Python [default]",
   "language": "python",
   "name": "python3"
  },
  "language_info": {
   "codemirror_mode": {
    "name": "ipython",
    "version": 3
   },
   "file_extension": ".py",
   "mimetype": "text/x-python",
   "name": "python",
   "nbconvert_exporter": "python",
   "pygments_lexer": "ipython3",
   "version": "3.5.2"
  }
 },
 "nbformat": 4,
 "nbformat_minor": 1
}
